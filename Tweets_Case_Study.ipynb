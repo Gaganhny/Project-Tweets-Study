{
 "cells": [
  {
   "cell_type": "code",
   "execution_count": 1,
   "id": "2c531260",
   "metadata": {
    "ExecuteTime": {
     "end_time": "2022-07-06T15:54:35.227160Z",
     "start_time": "2022-07-06T15:53:23.542338Z"
    }
   },
   "outputs": [
    {
     "name": "stderr",
     "output_type": "stream",
     "text": [
      "[nltk_data] Downloading package stopwords to\n",
      "[nltk_data]     C:\\Users\\gaghn\\AppData\\Roaming\\nltk_data...\n",
      "[nltk_data]   Unzipping corpora\\stopwords.zip.\n"
     ]
    }
   ],
   "source": [
    "#Data handling Libraries\n",
    "import pandas as pd\n",
    "import numpy as np\n",
    "import scipy\n",
    "from scipy.sparse import csr_matrix\n",
    "\n",
    "#Data Preprocessing Libraries\n",
    "from sklearn.preprocessing import LabelEncoder\n",
    "from sklearn.feature_extraction.text import TfidfVectorizer\n",
    "\n",
    "# Data Validation Split\n",
    "from sklearn.model_selection import train_test_split\n",
    "\n",
    "#Data Visualization Libraries\n",
    "import matplotlib.pyplot as plt\n",
    "\n",
    "# Text Cleaning Libraries\n",
    "import re\n",
    "import nltk\n",
    "from nltk.corpus import stopwords \n",
    "nltk.download('stopwords')\n",
    "stops = stopwords.words(\"english\")"
   ]
  },
  {
   "cell_type": "code",
   "execution_count": 2,
   "id": "2be20599",
   "metadata": {
    "ExecuteTime": {
     "end_time": "2022-07-06T15:54:36.159463Z",
     "start_time": "2022-07-06T15:54:35.248151Z"
    }
   },
   "outputs": [
    {
     "data": {
      "text/html": [
       "<div>\n",
       "<style scoped>\n",
       "    .dataframe tbody tr th:only-of-type {\n",
       "        vertical-align: middle;\n",
       "    }\n",
       "\n",
       "    .dataframe tbody tr th {\n",
       "        vertical-align: top;\n",
       "    }\n",
       "\n",
       "    .dataframe thead th {\n",
       "        text-align: right;\n",
       "    }\n",
       "</style>\n",
       "<table border=\"1\" class=\"dataframe\">\n",
       "  <thead>\n",
       "    <tr style=\"text-align: right;\">\n",
       "      <th></th>\n",
       "      <th>tweet_id</th>\n",
       "      <th>airline_sentiment</th>\n",
       "      <th>airline_sentiment_confidence</th>\n",
       "      <th>negativereason</th>\n",
       "      <th>negativereason_confidence</th>\n",
       "      <th>airline</th>\n",
       "      <th>airline_sentiment_gold</th>\n",
       "      <th>name</th>\n",
       "      <th>negativereason_gold</th>\n",
       "      <th>retweet_count</th>\n",
       "      <th>text</th>\n",
       "      <th>tweet_coord</th>\n",
       "      <th>tweet_created</th>\n",
       "      <th>tweet_location</th>\n",
       "      <th>user_timezone</th>\n",
       "    </tr>\n",
       "  </thead>\n",
       "  <tbody>\n",
       "    <tr>\n",
       "      <th>0</th>\n",
       "      <td>5.703060e+17</td>\n",
       "      <td>neutral</td>\n",
       "      <td>1.0000</td>\n",
       "      <td>NaN</td>\n",
       "      <td>NaN</td>\n",
       "      <td>Virgin America</td>\n",
       "      <td>NaN</td>\n",
       "      <td>cairdin</td>\n",
       "      <td>NaN</td>\n",
       "      <td>0</td>\n",
       "      <td>@VirginAmerica What @dhepburn said.</td>\n",
       "      <td>NaN</td>\n",
       "      <td>24/02/2015 11:35</td>\n",
       "      <td>NaN</td>\n",
       "      <td>Eastern Time (US &amp; Canada)</td>\n",
       "    </tr>\n",
       "    <tr>\n",
       "      <th>1</th>\n",
       "      <td>5.703010e+17</td>\n",
       "      <td>positive</td>\n",
       "      <td>0.3486</td>\n",
       "      <td>NaN</td>\n",
       "      <td>0.0000</td>\n",
       "      <td>Virgin America</td>\n",
       "      <td>NaN</td>\n",
       "      <td>jnardino</td>\n",
       "      <td>NaN</td>\n",
       "      <td>0</td>\n",
       "      <td>@VirginAmerica plus you've added commercials t...</td>\n",
       "      <td>NaN</td>\n",
       "      <td>24/02/2015 11:15</td>\n",
       "      <td>NaN</td>\n",
       "      <td>Pacific Time (US &amp; Canada)</td>\n",
       "    </tr>\n",
       "    <tr>\n",
       "      <th>2</th>\n",
       "      <td>5.703010e+17</td>\n",
       "      <td>neutral</td>\n",
       "      <td>0.6837</td>\n",
       "      <td>NaN</td>\n",
       "      <td>NaN</td>\n",
       "      <td>Virgin America</td>\n",
       "      <td>NaN</td>\n",
       "      <td>yvonnalynn</td>\n",
       "      <td>NaN</td>\n",
       "      <td>0</td>\n",
       "      <td>@VirginAmerica I didn't today... Must mean I n...</td>\n",
       "      <td>NaN</td>\n",
       "      <td>24/02/2015 11:15</td>\n",
       "      <td>Lets Play</td>\n",
       "      <td>Central Time (US &amp; Canada)</td>\n",
       "    </tr>\n",
       "    <tr>\n",
       "      <th>3</th>\n",
       "      <td>5.703010e+17</td>\n",
       "      <td>negative</td>\n",
       "      <td>1.0000</td>\n",
       "      <td>Bad Flight</td>\n",
       "      <td>0.7033</td>\n",
       "      <td>Virgin America</td>\n",
       "      <td>NaN</td>\n",
       "      <td>jnardino</td>\n",
       "      <td>NaN</td>\n",
       "      <td>0</td>\n",
       "      <td>@VirginAmerica it's really aggressive to blast...</td>\n",
       "      <td>NaN</td>\n",
       "      <td>24/02/2015 11:15</td>\n",
       "      <td>NaN</td>\n",
       "      <td>Pacific Time (US &amp; Canada)</td>\n",
       "    </tr>\n",
       "    <tr>\n",
       "      <th>4</th>\n",
       "      <td>5.703010e+17</td>\n",
       "      <td>negative</td>\n",
       "      <td>1.0000</td>\n",
       "      <td>Can't Tell</td>\n",
       "      <td>1.0000</td>\n",
       "      <td>Virgin America</td>\n",
       "      <td>NaN</td>\n",
       "      <td>jnardino</td>\n",
       "      <td>NaN</td>\n",
       "      <td>0</td>\n",
       "      <td>@VirginAmerica and it's a really big bad thing...</td>\n",
       "      <td>NaN</td>\n",
       "      <td>24/02/2015 11:14</td>\n",
       "      <td>NaN</td>\n",
       "      <td>Pacific Time (US &amp; Canada)</td>\n",
       "    </tr>\n",
       "  </tbody>\n",
       "</table>\n",
       "</div>"
      ],
      "text/plain": [
       "       tweet_id airline_sentiment  airline_sentiment_confidence  \\\n",
       "0  5.703060e+17           neutral                        1.0000   \n",
       "1  5.703010e+17          positive                        0.3486   \n",
       "2  5.703010e+17           neutral                        0.6837   \n",
       "3  5.703010e+17          negative                        1.0000   \n",
       "4  5.703010e+17          negative                        1.0000   \n",
       "\n",
       "  negativereason  negativereason_confidence         airline  \\\n",
       "0            NaN                        NaN  Virgin America   \n",
       "1            NaN                     0.0000  Virgin America   \n",
       "2            NaN                        NaN  Virgin America   \n",
       "3     Bad Flight                     0.7033  Virgin America   \n",
       "4     Can't Tell                     1.0000  Virgin America   \n",
       "\n",
       "  airline_sentiment_gold        name negativereason_gold  retweet_count  \\\n",
       "0                    NaN     cairdin                 NaN              0   \n",
       "1                    NaN    jnardino                 NaN              0   \n",
       "2                    NaN  yvonnalynn                 NaN              0   \n",
       "3                    NaN    jnardino                 NaN              0   \n",
       "4                    NaN    jnardino                 NaN              0   \n",
       "\n",
       "                                                text tweet_coord  \\\n",
       "0                @VirginAmerica What @dhepburn said.         NaN   \n",
       "1  @VirginAmerica plus you've added commercials t...         NaN   \n",
       "2  @VirginAmerica I didn't today... Must mean I n...         NaN   \n",
       "3  @VirginAmerica it's really aggressive to blast...         NaN   \n",
       "4  @VirginAmerica and it's a really big bad thing...         NaN   \n",
       "\n",
       "      tweet_created tweet_location               user_timezone  \n",
       "0  24/02/2015 11:35            NaN  Eastern Time (US & Canada)  \n",
       "1  24/02/2015 11:15            NaN  Pacific Time (US & Canada)  \n",
       "2  24/02/2015 11:15      Lets Play  Central Time (US & Canada)  \n",
       "3  24/02/2015 11:15            NaN  Pacific Time (US & Canada)  \n",
       "4  24/02/2015 11:14            NaN  Pacific Time (US & Canada)  "
      ]
     },
     "execution_count": 2,
     "metadata": {},
     "output_type": "execute_result"
    }
   ],
   "source": [
    "df = pd.read_csv(\"Tweets.csv\")\n",
    "df.head()"
   ]
  },
  {
   "cell_type": "markdown",
   "id": "655f661f",
   "metadata": {},
   "source": [
    "## For performing sentiment analysis, can you pickup which columns would be useful?"
   ]
  },
  {
   "cell_type": "code",
   "execution_count": 3,
   "id": "21eadbc0",
   "metadata": {
    "ExecuteTime": {
     "end_time": "2022-07-06T15:54:36.409477Z",
     "start_time": "2022-07-06T15:54:36.166443Z"
    }
   },
   "outputs": [],
   "source": [
    "df_sent = df[[\"airline_sentiment\",\"text\"]]\n",
    "# To perform sentiment analysis we need the airline_sentiment and the text."
   ]
  },
  {
   "cell_type": "markdown",
   "id": "35326b9d",
   "metadata": {},
   "source": [
    "## There are three sentiment positive, negative & neutral. What is the average count of each sentiment?\n"
   ]
  },
  {
   "cell_type": "code",
   "execution_count": 4,
   "id": "57fd0595",
   "metadata": {
    "ExecuteTime": {
     "end_time": "2022-07-06T15:54:39.700860Z",
     "start_time": "2022-07-06T15:54:36.427460Z"
    }
   },
   "outputs": [
    {
     "data": {
      "text/plain": [
       "<AxesSubplot:>"
      ]
     },
     "execution_count": 4,
     "metadata": {},
     "output_type": "execute_result"
    },
    {
     "data": {
      "image/png": "[encoded data removed]",
      "text/plain": [
       "<Figure size 432x288 with 1 Axes>"
      ]
     },
     "metadata": {
      "needs_background": "light"
     },
     "output_type": "display_data"
    }
   ],
   "source": [
    "df[\"airline_sentiment\"].value_counts().plot(kind=\"barh\")\n",
    "# The max sentiments is followed by below graph is negative then neutral then positive"
   ]
  },
  {
   "cell_type": "markdown",
   "id": "9210f34c",
   "metadata": {},
   "source": [
    "## What are some of thecommon negative feedbacks given?\n",
    "## What is the most common negative feedback given?"
   ]
  },
  {
   "cell_type": "code",
   "execution_count": 5,
   "id": "801e16e7",
   "metadata": {
    "ExecuteTime": {
     "end_time": "2022-07-06T15:54:40.168239Z",
     "start_time": "2022-07-06T15:54:39.705859Z"
    }
   },
   "outputs": [
    {
     "data": {
      "text/plain": [
       "<AxesSubplot:>"
      ]
     },
     "execution_count": 5,
     "metadata": {},
     "output_type": "execute_result"
    },
    {
     "data": {
      "image/png": "[encoded data removed]",
      "text/plain": [
       "<Figure size 432x288 with 1 Axes>"
      ]
     },
     "metadata": {
      "needs_background": "light"
     },
     "output_type": "display_data"
    }
   ],
   "source": [
    "df[\"negativereason\"].value_counts().plot(kind=\"barh\")\n",
    "# from the below graph we can conclude the maximum common negative feedbacks"
   ]
  },
  {
   "cell_type": "markdown",
   "id": "ce24bd7c",
   "metadata": {},
   "source": [
    "## How many different airlines are present in the dataset?"
   ]
  },
  {
   "cell_type": "code",
   "execution_count": 6,
   "id": "390c6fd8",
   "metadata": {
    "ExecuteTime": {
     "end_time": "2022-07-06T15:54:40.509487Z",
     "start_time": "2022-07-06T15:54:40.180236Z"
    }
   },
   "outputs": [
    {
     "data": {
      "text/plain": [
       "<AxesSubplot:>"
      ]
     },
     "execution_count": 6,
     "metadata": {},
     "output_type": "execute_result"
    },
    {
     "data": {
      "image/png": "[encoded data removed]",
      "text/plain": [
       "<Figure size 432x288 with 1 Axes>"
      ]
     },
     "metadata": {
      "needs_background": "light"
     },
     "output_type": "display_data"
    }
   ],
   "source": [
    "df[\"airline\"].value_counts().plot(kind=\"barh\")\n",
    "# From below graph we see the different types of airline"
   ]
  },
  {
   "cell_type": "markdown",
   "id": "5a139473",
   "metadata": {},
   "source": [
    "## Could you generate the no. of sentiments of each airline from the data?\n",
    "## Which airline has the maximum negative sentiments?"
   ]
  },
  {
   "cell_type": "code",
   "execution_count": 7,
   "id": "70b39490",
   "metadata": {
    "ExecuteTime": {
     "end_time": "2022-07-06T15:54:40.944683Z",
     "start_time": "2022-07-06T15:54:40.515485Z"
    }
   },
   "outputs": [],
   "source": [
    "df_airline_sentiment = pd.crosstab(df[\"airline\"],df[\"airline_sentiment\"])\n"
   ]
  },
  {
   "cell_type": "code",
   "execution_count": 8,
   "id": "9a4b762e",
   "metadata": {
    "ExecuteTime": {
     "end_time": "2022-07-06T15:54:41.408319Z",
     "start_time": "2022-07-06T15:54:40.947645Z"
    }
   },
   "outputs": [
    {
     "data": {
      "text/plain": [
       "<AxesSubplot:xlabel='airline'>"
      ]
     },
     "execution_count": 8,
     "metadata": {},
     "output_type": "execute_result"
    },
    {
     "data": {
      "image/png": "[encoded data removed]",
      "text/plain": [
       "<Figure size 720x720 with 1 Axes>"
      ]
     },
     "metadata": {
      "needs_background": "light"
     },
     "output_type": "display_data"
    }
   ],
   "source": [
    "df_airline_sentiment.plot(kind=\"bar\",figsize=(10,10))\n",
    "# From below graph we conclude the United states have maximum negative feedback"
   ]
  },
  {
   "cell_type": "markdown",
   "id": "99905d35",
   "metadata": {},
   "source": [
    "## Is there a specific day where a lot of negative feedbacks were given?"
   ]
  },
  {
   "cell_type": "code",
   "execution_count": 9,
   "id": "495b1314",
   "metadata": {
    "ExecuteTime": {
     "end_time": "2022-07-06T15:54:45.860492Z",
     "start_time": "2022-07-06T15:54:41.420329Z"
    }
   },
   "outputs": [],
   "source": [
    "df[\"tweet_created\"] = pd.to_datetime(df[\"tweet_created\"]).dt.strftime(\"%d-%m-%Y\")"
   ]
  },
  {
   "cell_type": "code",
   "execution_count": 10,
   "id": "44ba6b86",
   "metadata": {
    "ExecuteTime": {
     "end_time": "2022-07-06T15:54:45.988767Z",
     "start_time": "2022-07-06T15:54:45.871323Z"
    }
   },
   "outputs": [
    {
     "data": {
      "text/html": [
       "<div>\n",
       "<style scoped>\n",
       "    .dataframe tbody tr th:only-of-type {\n",
       "        vertical-align: middle;\n",
       "    }\n",
       "\n",
       "    .dataframe tbody tr th {\n",
       "        vertical-align: top;\n",
       "    }\n",
       "\n",
       "    .dataframe thead th {\n",
       "        text-align: right;\n",
       "    }\n",
       "</style>\n",
       "<table border=\"1\" class=\"dataframe\">\n",
       "  <thead>\n",
       "    <tr style=\"text-align: right;\">\n",
       "      <th></th>\n",
       "      <th>tweet_id</th>\n",
       "      <th>airline_sentiment</th>\n",
       "      <th>airline_sentiment_confidence</th>\n",
       "      <th>negativereason</th>\n",
       "      <th>negativereason_confidence</th>\n",
       "      <th>airline</th>\n",
       "      <th>airline_sentiment_gold</th>\n",
       "      <th>name</th>\n",
       "      <th>negativereason_gold</th>\n",
       "      <th>retweet_count</th>\n",
       "      <th>text</th>\n",
       "      <th>tweet_coord</th>\n",
       "      <th>tweet_created</th>\n",
       "      <th>tweet_location</th>\n",
       "      <th>user_timezone</th>\n",
       "    </tr>\n",
       "  </thead>\n",
       "  <tbody>\n",
       "    <tr>\n",
       "      <th>0</th>\n",
       "      <td>5.703060e+17</td>\n",
       "      <td>neutral</td>\n",
       "      <td>1.0000</td>\n",
       "      <td>NaN</td>\n",
       "      <td>NaN</td>\n",
       "      <td>Virgin America</td>\n",
       "      <td>NaN</td>\n",
       "      <td>cairdin</td>\n",
       "      <td>NaN</td>\n",
       "      <td>0</td>\n",
       "      <td>@VirginAmerica What @dhepburn said.</td>\n",
       "      <td>NaN</td>\n",
       "      <td>24-02-2015</td>\n",
       "      <td>NaN</td>\n",
       "      <td>Eastern Time (US &amp; Canada)</td>\n",
       "    </tr>\n",
       "    <tr>\n",
       "      <th>1</th>\n",
       "      <td>5.703010e+17</td>\n",
       "      <td>positive</td>\n",
       "      <td>0.3486</td>\n",
       "      <td>NaN</td>\n",
       "      <td>0.0000</td>\n",
       "      <td>Virgin America</td>\n",
       "      <td>NaN</td>\n",
       "      <td>jnardino</td>\n",
       "      <td>NaN</td>\n",
       "      <td>0</td>\n",
       "      <td>@VirginAmerica plus you've added commercials t...</td>\n",
       "      <td>NaN</td>\n",
       "      <td>24-02-2015</td>\n",
       "      <td>NaN</td>\n",
       "      <td>Pacific Time (US &amp; Canada)</td>\n",
       "    </tr>\n",
       "    <tr>\n",
       "      <th>2</th>\n",
       "      <td>5.703010e+17</td>\n",
       "      <td>neutral</td>\n",
       "      <td>0.6837</td>\n",
       "      <td>NaN</td>\n",
       "      <td>NaN</td>\n",
       "      <td>Virgin America</td>\n",
       "      <td>NaN</td>\n",
       "      <td>yvonnalynn</td>\n",
       "      <td>NaN</td>\n",
       "      <td>0</td>\n",
       "      <td>@VirginAmerica I didn't today... Must mean I n...</td>\n",
       "      <td>NaN</td>\n",
       "      <td>24-02-2015</td>\n",
       "      <td>Lets Play</td>\n",
       "      <td>Central Time (US &amp; Canada)</td>\n",
       "    </tr>\n",
       "    <tr>\n",
       "      <th>3</th>\n",
       "      <td>5.703010e+17</td>\n",
       "      <td>negative</td>\n",
       "      <td>1.0000</td>\n",
       "      <td>Bad Flight</td>\n",
       "      <td>0.7033</td>\n",
       "      <td>Virgin America</td>\n",
       "      <td>NaN</td>\n",
       "      <td>jnardino</td>\n",
       "      <td>NaN</td>\n",
       "      <td>0</td>\n",
       "      <td>@VirginAmerica it's really aggressive to blast...</td>\n",
       "      <td>NaN</td>\n",
       "      <td>24-02-2015</td>\n",
       "      <td>NaN</td>\n",
       "      <td>Pacific Time (US &amp; Canada)</td>\n",
       "    </tr>\n",
       "    <tr>\n",
       "      <th>4</th>\n",
       "      <td>5.703010e+17</td>\n",
       "      <td>negative</td>\n",
       "      <td>1.0000</td>\n",
       "      <td>Can't Tell</td>\n",
       "      <td>1.0000</td>\n",
       "      <td>Virgin America</td>\n",
       "      <td>NaN</td>\n",
       "      <td>jnardino</td>\n",
       "      <td>NaN</td>\n",
       "      <td>0</td>\n",
       "      <td>@VirginAmerica and it's a really big bad thing...</td>\n",
       "      <td>NaN</td>\n",
       "      <td>24-02-2015</td>\n",
       "      <td>NaN</td>\n",
       "      <td>Pacific Time (US &amp; Canada)</td>\n",
       "    </tr>\n",
       "  </tbody>\n",
       "</table>\n",
       "</div>"
      ],
      "text/plain": [
       "       tweet_id airline_sentiment  airline_sentiment_confidence  \\\n",
       "0  5.703060e+17           neutral                        1.0000   \n",
       "1  5.703010e+17          positive                        0.3486   \n",
       "2  5.703010e+17           neutral                        0.6837   \n",
       "3  5.703010e+17          negative                        1.0000   \n",
       "4  5.703010e+17          negative                        1.0000   \n",
       "\n",
       "  negativereason  negativereason_confidence         airline  \\\n",
       "0            NaN                        NaN  Virgin America   \n",
       "1            NaN                     0.0000  Virgin America   \n",
       "2            NaN                        NaN  Virgin America   \n",
       "3     Bad Flight                     0.7033  Virgin America   \n",
       "4     Can't Tell                     1.0000  Virgin America   \n",
       "\n",
       "  airline_sentiment_gold        name negativereason_gold  retweet_count  \\\n",
       "0                    NaN     cairdin                 NaN              0   \n",
       "1                    NaN    jnardino                 NaN              0   \n",
       "2                    NaN  yvonnalynn                 NaN              0   \n",
       "3                    NaN    jnardino                 NaN              0   \n",
       "4                    NaN    jnardino                 NaN              0   \n",
       "\n",
       "                                                text tweet_coord  \\\n",
       "0                @VirginAmerica What @dhepburn said.         NaN   \n",
       "1  @VirginAmerica plus you've added commercials t...         NaN   \n",
       "2  @VirginAmerica I didn't today... Must mean I n...         NaN   \n",
       "3  @VirginAmerica it's really aggressive to blast...         NaN   \n",
       "4  @VirginAmerica and it's a really big bad thing...         NaN   \n",
       "\n",
       "  tweet_created tweet_location               user_timezone  \n",
       "0    24-02-2015            NaN  Eastern Time (US & Canada)  \n",
       "1    24-02-2015            NaN  Pacific Time (US & Canada)  \n",
       "2    24-02-2015      Lets Play  Central Time (US & Canada)  \n",
       "3    24-02-2015            NaN  Pacific Time (US & Canada)  \n",
       "4    24-02-2015            NaN  Pacific Time (US & Canada)  "
      ]
     },
     "execution_count": 10,
     "metadata": {},
     "output_type": "execute_result"
    }
   ],
   "source": [
    "df.head()"
   ]
  },
  {
   "cell_type": "code",
   "execution_count": 11,
   "id": "16088e85",
   "metadata": {
    "ExecuteTime": {
     "end_time": "2022-07-06T15:54:46.802372Z",
     "start_time": "2022-07-06T15:54:46.004762Z"
    }
   },
   "outputs": [],
   "source": [
    "df_date_time = pd.crosstab(df[\"tweet_created\"],df[\"airline_sentiment\"])"
   ]
  },
  {
   "cell_type": "code",
   "execution_count": 12,
   "id": "4e9a93f3",
   "metadata": {
    "ExecuteTime": {
     "end_time": "2022-07-06T15:54:48.316391Z",
     "start_time": "2022-07-06T15:54:46.810369Z"
    }
   },
   "outputs": [
    {
     "data": {
      "text/plain": [
       "<AxesSubplot:xlabel='tweet_created'>"
      ]
     },
     "execution_count": 12,
     "metadata": {},
     "output_type": "execute_result"
    },
    {
     "data": {
      "image/png": "[encoded data removed]",
      "text/plain": [
       "<Figure size 432x288 with 1 Axes>"
      ]
     },
     "metadata": {
      "needs_background": "light"
     },
     "output_type": "display_data"
    }
   ],
   "source": [
    "df_date_time.plot(kind=\"bar\")"
   ]
  },
  {
   "cell_type": "markdown",
   "id": "d9f894ff",
   "metadata": {},
   "source": [
    "## Data Cleaning"
   ]
  },
  {
   "cell_type": "code",
   "execution_count": 13,
   "id": "e94a112d",
   "metadata": {
    "ExecuteTime": {
     "end_time": "2022-07-06T15:54:48.474300Z",
     "start_time": "2022-07-06T15:54:48.330383Z"
    }
   },
   "outputs": [
    {
     "data": {
      "text/html": [
       "<div>\n",
       "<style scoped>\n",
       "    .dataframe tbody tr th:only-of-type {\n",
       "        vertical-align: middle;\n",
       "    }\n",
       "\n",
       "    .dataframe tbody tr th {\n",
       "        vertical-align: top;\n",
       "    }\n",
       "\n",
       "    .dataframe thead th {\n",
       "        text-align: right;\n",
       "    }\n",
       "</style>\n",
       "<table border=\"1\" class=\"dataframe\">\n",
       "  <thead>\n",
       "    <tr style=\"text-align: right;\">\n",
       "      <th></th>\n",
       "      <th>airline_sentiment</th>\n",
       "      <th>text</th>\n",
       "    </tr>\n",
       "  </thead>\n",
       "  <tbody>\n",
       "    <tr>\n",
       "      <th>0</th>\n",
       "      <td>neutral</td>\n",
       "      <td>@VirginAmerica What @dhepburn said.</td>\n",
       "    </tr>\n",
       "    <tr>\n",
       "      <th>1</th>\n",
       "      <td>positive</td>\n",
       "      <td>@VirginAmerica plus you've added commercials t...</td>\n",
       "    </tr>\n",
       "    <tr>\n",
       "      <th>2</th>\n",
       "      <td>neutral</td>\n",
       "      <td>@VirginAmerica I didn't today... Must mean I n...</td>\n",
       "    </tr>\n",
       "    <tr>\n",
       "      <th>3</th>\n",
       "      <td>negative</td>\n",
       "      <td>@VirginAmerica it's really aggressive to blast...</td>\n",
       "    </tr>\n",
       "    <tr>\n",
       "      <th>4</th>\n",
       "      <td>negative</td>\n",
       "      <td>@VirginAmerica and it's a really big bad thing...</td>\n",
       "    </tr>\n",
       "    <tr>\n",
       "      <th>...</th>\n",
       "      <td>...</td>\n",
       "      <td>...</td>\n",
       "    </tr>\n",
       "    <tr>\n",
       "      <th>14635</th>\n",
       "      <td>positive</td>\n",
       "      <td>@AmericanAir thank you we got on a different f...</td>\n",
       "    </tr>\n",
       "    <tr>\n",
       "      <th>14636</th>\n",
       "      <td>negative</td>\n",
       "      <td>@AmericanAir leaving over 20 minutes Late Flig...</td>\n",
       "    </tr>\n",
       "    <tr>\n",
       "      <th>14637</th>\n",
       "      <td>neutral</td>\n",
       "      <td>@AmericanAir Please bring American Airlines to...</td>\n",
       "    </tr>\n",
       "    <tr>\n",
       "      <th>14638</th>\n",
       "      <td>negative</td>\n",
       "      <td>@AmericanAir you have my money, you change my ...</td>\n",
       "    </tr>\n",
       "    <tr>\n",
       "      <th>14639</th>\n",
       "      <td>neutral</td>\n",
       "      <td>@AmericanAir we have 8 ppl so we need 2 know h...</td>\n",
       "    </tr>\n",
       "  </tbody>\n",
       "</table>\n",
       "<p>14640 rows × 2 columns</p>\n",
       "</div>"
      ],
      "text/plain": [
       "      airline_sentiment                                               text\n",
       "0               neutral                @VirginAmerica What @dhepburn said.\n",
       "1              positive  @VirginAmerica plus you've added commercials t...\n",
       "2               neutral  @VirginAmerica I didn't today... Must mean I n...\n",
       "3              negative  @VirginAmerica it's really aggressive to blast...\n",
       "4              negative  @VirginAmerica and it's a really big bad thing...\n",
       "...                 ...                                                ...\n",
       "14635          positive  @AmericanAir thank you we got on a different f...\n",
       "14636          negative  @AmericanAir leaving over 20 minutes Late Flig...\n",
       "14637           neutral  @AmericanAir Please bring American Airlines to...\n",
       "14638          negative  @AmericanAir you have my money, you change my ...\n",
       "14639           neutral  @AmericanAir we have 8 ppl so we need 2 know h...\n",
       "\n",
       "[14640 rows x 2 columns]"
      ]
     },
     "execution_count": 13,
     "metadata": {},
     "output_type": "execute_result"
    }
   ],
   "source": [
    "df_sent"
   ]
  },
  {
   "cell_type": "code",
   "execution_count": 14,
   "id": "23beb33e",
   "metadata": {
    "ExecuteTime": {
     "end_time": "2022-07-06T15:54:48.782431Z",
     "start_time": "2022-07-06T15:54:48.481298Z"
    }
   },
   "outputs": [],
   "source": [
    "# Text cleaning is one of the impoortant steps in deep learning model building\n",
    "# In order yo do text cleaning we use 2 libraries namely NLTK - Natural Language Tool Kit and Regex - Regular expression"
   ]
  },
  {
   "cell_type": "code",
   "execution_count": 15,
   "id": "99378c68",
   "metadata": {
    "ExecuteTime": {
     "end_time": "2022-07-06T15:54:49.371539Z",
     "start_time": "2022-07-06T15:54:48.789428Z"
    }
   },
   "outputs": [],
   "source": [
    "def data_cleaning(text):\n",
    "    text = text.lower() # convert everything into lower case\n",
    "    text = re.sub(\"[^a-z]\",\" \",text) # (\"allow\",\"replace\",\"data\")\n",
    "    words = text.split()  # Split the entire sentence into words\n",
    "    imp_words = [w for w in words if w not in stops] # Picking up only imp words after filtering out the stop words\n",
    "    \n",
    "    return(\" \".join(imp_words))"
   ]
  },
  {
   "cell_type": "code",
   "execution_count": 16,
   "id": "7ec352b9",
   "metadata": {
    "ExecuteTime": {
     "end_time": "2022-07-06T15:54:49.634630Z",
     "start_time": "2022-07-06T15:54:49.377639Z"
    }
   },
   "outputs": [],
   "source": [
    "demo = \"India, officially the Republic of India (Hindi: Bhārat Gaṇarājya),[26] is a country in South Asia. It is the seventh-largest country by area, the second-most populous country, and the most populous democracy in the world. Bounded by the Indian Ocean on the south, the Arabian Sea on the southwest, and the Bay of Bengal on the southeast.\""
   ]
  },
  {
   "cell_type": "code",
   "execution_count": 17,
   "id": "7322b1ce",
   "metadata": {
    "ExecuteTime": {
     "end_time": "2022-07-06T15:54:49.834286Z",
     "start_time": "2022-07-06T15:54:49.638629Z"
    }
   },
   "outputs": [
    {
     "data": {
      "text/plain": [
       "'india officially republic india hindi bh rat ga ar jya country south asia seventh largest country area second populous country populous democracy world bounded indian ocean south arabian sea southwest bay bengal southeast'"
      ]
     },
     "execution_count": 17,
     "metadata": {},
     "output_type": "execute_result"
    }
   ],
   "source": [
    "data_cleaning(demo)"
   ]
  },
  {
   "cell_type": "code",
   "execution_count": 18,
   "id": "7010f060",
   "metadata": {
    "ExecuteTime": {
     "end_time": "2022-07-06T15:54:52.743806Z",
     "start_time": "2022-07-06T15:54:49.837283Z"
    }
   },
   "outputs": [
    {
     "name": "stderr",
     "output_type": "stream",
     "text": [
      "C:\\Users\\gaghn\\AppData\\Local\\Temp/ipykernel_11044/2698929073.py:1: SettingWithCopyWarning: \n",
      "A value is trying to be set on a copy of a slice from a DataFrame.\n",
      "Try using .loc[row_indexer,col_indexer] = value instead\n",
      "\n",
      "See the caveats in the documentation: https://pandas.pydata.org/pandas-docs/stable/user_guide/indexing.html#returning-a-view-versus-a-copy\n",
      "  df_sent[\"cleaned_text\"] = df[\"text\"].apply(lambda x : data_cleaning(x) )\n"
     ]
    }
   ],
   "source": [
    "df_sent[\"cleaned_text\"] = df[\"text\"].apply(lambda x : data_cleaning(x) ) "
   ]
  },
  {
   "cell_type": "code",
   "execution_count": 19,
   "id": "c9e13e5b",
   "metadata": {
    "ExecuteTime": {
     "end_time": "2022-07-06T15:54:52.775495Z",
     "start_time": "2022-07-06T15:54:52.748805Z"
    }
   },
   "outputs": [
    {
     "data": {
      "text/html": [
       "<div>\n",
       "<style scoped>\n",
       "    .dataframe tbody tr th:only-of-type {\n",
       "        vertical-align: middle;\n",
       "    }\n",
       "\n",
       "    .dataframe tbody tr th {\n",
       "        vertical-align: top;\n",
       "    }\n",
       "\n",
       "    .dataframe thead th {\n",
       "        text-align: right;\n",
       "    }\n",
       "</style>\n",
       "<table border=\"1\" class=\"dataframe\">\n",
       "  <thead>\n",
       "    <tr style=\"text-align: right;\">\n",
       "      <th></th>\n",
       "      <th>airline_sentiment</th>\n",
       "      <th>text</th>\n",
       "      <th>cleaned_text</th>\n",
       "    </tr>\n",
       "  </thead>\n",
       "  <tbody>\n",
       "    <tr>\n",
       "      <th>0</th>\n",
       "      <td>neutral</td>\n",
       "      <td>@VirginAmerica What @dhepburn said.</td>\n",
       "      <td>virginamerica dhepburn said</td>\n",
       "    </tr>\n",
       "    <tr>\n",
       "      <th>1</th>\n",
       "      <td>positive</td>\n",
       "      <td>@VirginAmerica plus you've added commercials t...</td>\n",
       "      <td>virginamerica plus added commercials experienc...</td>\n",
       "    </tr>\n",
       "    <tr>\n",
       "      <th>2</th>\n",
       "      <td>neutral</td>\n",
       "      <td>@VirginAmerica I didn't today... Must mean I n...</td>\n",
       "      <td>virginamerica today must mean need take anothe...</td>\n",
       "    </tr>\n",
       "    <tr>\n",
       "      <th>3</th>\n",
       "      <td>negative</td>\n",
       "      <td>@VirginAmerica it's really aggressive to blast...</td>\n",
       "      <td>virginamerica really aggressive blast obnoxiou...</td>\n",
       "    </tr>\n",
       "    <tr>\n",
       "      <th>4</th>\n",
       "      <td>negative</td>\n",
       "      <td>@VirginAmerica and it's a really big bad thing...</td>\n",
       "      <td>virginamerica really big bad thing</td>\n",
       "    </tr>\n",
       "  </tbody>\n",
       "</table>\n",
       "</div>"
      ],
      "text/plain": [
       "  airline_sentiment                                               text  \\\n",
       "0           neutral                @VirginAmerica What @dhepburn said.   \n",
       "1          positive  @VirginAmerica plus you've added commercials t...   \n",
       "2           neutral  @VirginAmerica I didn't today... Must mean I n...   \n",
       "3          negative  @VirginAmerica it's really aggressive to blast...   \n",
       "4          negative  @VirginAmerica and it's a really big bad thing...   \n",
       "\n",
       "                                        cleaned_text  \n",
       "0                        virginamerica dhepburn said  \n",
       "1  virginamerica plus added commercials experienc...  \n",
       "2  virginamerica today must mean need take anothe...  \n",
       "3  virginamerica really aggressive blast obnoxiou...  \n",
       "4                 virginamerica really big bad thing  "
      ]
     },
     "execution_count": 19,
     "metadata": {},
     "output_type": "execute_result"
    }
   ],
   "source": [
    "df_sent.head()"
   ]
  },
  {
   "cell_type": "code",
   "execution_count": 20,
   "id": "85137a97",
   "metadata": {
    "ExecuteTime": {
     "end_time": "2022-07-06T15:54:53.147694Z",
     "start_time": "2022-07-06T15:54:52.779494Z"
    }
   },
   "outputs": [],
   "source": [
    "le = LabelEncoder()"
   ]
  },
  {
   "cell_type": "code",
   "execution_count": 21,
   "id": "56935ae8",
   "metadata": {
    "ExecuteTime": {
     "end_time": "2022-07-06T15:54:53.398597Z",
     "start_time": "2022-07-06T15:54:53.152694Z"
    }
   },
   "outputs": [
    {
     "name": "stderr",
     "output_type": "stream",
     "text": [
      "C:\\Users\\gaghn\\AppData\\Local\\Temp/ipykernel_11044/3814891589.py:1: SettingWithCopyWarning: \n",
      "A value is trying to be set on a copy of a slice from a DataFrame.\n",
      "Try using .loc[row_indexer,col_indexer] = value instead\n",
      "\n",
      "See the caveats in the documentation: https://pandas.pydata.org/pandas-docs/stable/user_guide/indexing.html#returning-a-view-versus-a-copy\n",
      "  df_sent[\"airline_sentiment\"] = le.fit_transform(df_sent[\"airline_sentiment\"])\n"
     ]
    }
   ],
   "source": [
    "df_sent[\"airline_sentiment\"] = le.fit_transform(df_sent[\"airline_sentiment\"])\n",
    "# 1 = Neutral ,  2 = Positive , 0 = Negative"
   ]
  },
  {
   "cell_type": "code",
   "execution_count": 22,
   "id": "22931ebf",
   "metadata": {
    "ExecuteTime": {
     "end_time": "2022-07-06T15:54:53.567442Z",
     "start_time": "2022-07-06T15:54:53.403595Z"
    }
   },
   "outputs": [
    {
     "data": {
      "text/html": [
       "<div>\n",
       "<style scoped>\n",
       "    .dataframe tbody tr th:only-of-type {\n",
       "        vertical-align: middle;\n",
       "    }\n",
       "\n",
       "    .dataframe tbody tr th {\n",
       "        vertical-align: top;\n",
       "    }\n",
       "\n",
       "    .dataframe thead th {\n",
       "        text-align: right;\n",
       "    }\n",
       "</style>\n",
       "<table border=\"1\" class=\"dataframe\">\n",
       "  <thead>\n",
       "    <tr style=\"text-align: right;\">\n",
       "      <th></th>\n",
       "      <th>airline_sentiment</th>\n",
       "      <th>text</th>\n",
       "      <th>cleaned_text</th>\n",
       "    </tr>\n",
       "  </thead>\n",
       "  <tbody>\n",
       "    <tr>\n",
       "      <th>0</th>\n",
       "      <td>1</td>\n",
       "      <td>@VirginAmerica What @dhepburn said.</td>\n",
       "      <td>virginamerica dhepburn said</td>\n",
       "    </tr>\n",
       "    <tr>\n",
       "      <th>1</th>\n",
       "      <td>2</td>\n",
       "      <td>@VirginAmerica plus you've added commercials t...</td>\n",
       "      <td>virginamerica plus added commercials experienc...</td>\n",
       "    </tr>\n",
       "    <tr>\n",
       "      <th>2</th>\n",
       "      <td>1</td>\n",
       "      <td>@VirginAmerica I didn't today... Must mean I n...</td>\n",
       "      <td>virginamerica today must mean need take anothe...</td>\n",
       "    </tr>\n",
       "    <tr>\n",
       "      <th>3</th>\n",
       "      <td>0</td>\n",
       "      <td>@VirginAmerica it's really aggressive to blast...</td>\n",
       "      <td>virginamerica really aggressive blast obnoxiou...</td>\n",
       "    </tr>\n",
       "    <tr>\n",
       "      <th>4</th>\n",
       "      <td>0</td>\n",
       "      <td>@VirginAmerica and it's a really big bad thing...</td>\n",
       "      <td>virginamerica really big bad thing</td>\n",
       "    </tr>\n",
       "    <tr>\n",
       "      <th>...</th>\n",
       "      <td>...</td>\n",
       "      <td>...</td>\n",
       "      <td>...</td>\n",
       "    </tr>\n",
       "    <tr>\n",
       "      <th>14635</th>\n",
       "      <td>2</td>\n",
       "      <td>@AmericanAir thank you we got on a different f...</td>\n",
       "      <td>americanair thank got different flight chicago</td>\n",
       "    </tr>\n",
       "    <tr>\n",
       "      <th>14636</th>\n",
       "      <td>0</td>\n",
       "      <td>@AmericanAir leaving over 20 minutes Late Flig...</td>\n",
       "      <td>americanair leaving minutes late flight warnin...</td>\n",
       "    </tr>\n",
       "    <tr>\n",
       "      <th>14637</th>\n",
       "      <td>1</td>\n",
       "      <td>@AmericanAir Please bring American Airlines to...</td>\n",
       "      <td>americanair please bring american airlines bla...</td>\n",
       "    </tr>\n",
       "    <tr>\n",
       "      <th>14638</th>\n",
       "      <td>0</td>\n",
       "      <td>@AmericanAir you have my money, you change my ...</td>\n",
       "      <td>americanair money change flight answer phones ...</td>\n",
       "    </tr>\n",
       "    <tr>\n",
       "      <th>14639</th>\n",
       "      <td>1</td>\n",
       "      <td>@AmericanAir we have 8 ppl so we need 2 know h...</td>\n",
       "      <td>americanair ppl need know many seats next flig...</td>\n",
       "    </tr>\n",
       "  </tbody>\n",
       "</table>\n",
       "<p>14640 rows × 3 columns</p>\n",
       "</div>"
      ],
      "text/plain": [
       "       airline_sentiment                                               text  \\\n",
       "0                      1                @VirginAmerica What @dhepburn said.   \n",
       "1                      2  @VirginAmerica plus you've added commercials t...   \n",
       "2                      1  @VirginAmerica I didn't today... Must mean I n...   \n",
       "3                      0  @VirginAmerica it's really aggressive to blast...   \n",
       "4                      0  @VirginAmerica and it's a really big bad thing...   \n",
       "...                  ...                                                ...   \n",
       "14635                  2  @AmericanAir thank you we got on a different f...   \n",
       "14636                  0  @AmericanAir leaving over 20 minutes Late Flig...   \n",
       "14637                  1  @AmericanAir Please bring American Airlines to...   \n",
       "14638                  0  @AmericanAir you have my money, you change my ...   \n",
       "14639                  1  @AmericanAir we have 8 ppl so we need 2 know h...   \n",
       "\n",
       "                                            cleaned_text  \n",
       "0                            virginamerica dhepburn said  \n",
       "1      virginamerica plus added commercials experienc...  \n",
       "2      virginamerica today must mean need take anothe...  \n",
       "3      virginamerica really aggressive blast obnoxiou...  \n",
       "4                     virginamerica really big bad thing  \n",
       "...                                                  ...  \n",
       "14635     americanair thank got different flight chicago  \n",
       "14636  americanair leaving minutes late flight warnin...  \n",
       "14637  americanair please bring american airlines bla...  \n",
       "14638  americanair money change flight answer phones ...  \n",
       "14639  americanair ppl need know many seats next flig...  \n",
       "\n",
       "[14640 rows x 3 columns]"
      ]
     },
     "execution_count": 22,
     "metadata": {},
     "output_type": "execute_result"
    }
   ],
   "source": [
    "df_sent"
   ]
  },
  {
   "cell_type": "code",
   "execution_count": 23,
   "id": "7277de6b",
   "metadata": {
    "ExecuteTime": {
     "end_time": "2022-07-06T15:54:54.029657Z",
     "start_time": "2022-07-06T15:54:53.570308Z"
    }
   },
   "outputs": [],
   "source": [
    "x = df_sent[\"cleaned_text\"]\n",
    "y = df_sent[\"text\"]"
   ]
  },
  {
   "cell_type": "code",
   "execution_count": 24,
   "id": "36ace197",
   "metadata": {
    "ExecuteTime": {
     "end_time": "2022-07-06T15:54:54.630268Z",
     "start_time": "2022-07-06T15:54:54.035663Z"
    }
   },
   "outputs": [],
   "source": [
    "x_train,x_test,y_train,y_test = train_test_split(x,y,test_size=0.3,random_state=42)"
   ]
  },
  {
   "cell_type": "code",
   "execution_count": 25,
   "id": "62b26013",
   "metadata": {
    "ExecuteTime": {
     "end_time": "2022-07-06T15:54:54.876265Z",
     "start_time": "2022-07-06T15:54:54.633268Z"
    }
   },
   "outputs": [],
   "source": [
    "# We always fit_transform training data and transform the test data\n",
    "tf_idf = TfidfVectorizer()"
   ]
  },
  {
   "cell_type": "code",
   "execution_count": 26,
   "id": "5e91fc5c",
   "metadata": {
    "ExecuteTime": {
     "end_time": "2022-07-06T15:54:55.945422Z",
     "start_time": "2022-07-06T15:54:54.880263Z"
    }
   },
   "outputs": [],
   "source": [
    "x_train_tf = tf_idf.fit_transform(x_train)\n",
    "x_test_tf = tf_idf.transform(x_test)"
   ]
  },
  {
   "cell_type": "code",
   "execution_count": 27,
   "id": "000f4003",
   "metadata": {
    "ExecuteTime": {
     "end_time": "2022-07-06T15:54:55.976280Z",
     "start_time": "2022-07-06T15:54:55.950307Z"
    }
   },
   "outputs": [
    {
     "data": {
      "text/plain": [
       "11125"
      ]
     },
     "execution_count": 27,
     "metadata": {},
     "output_type": "execute_result"
    }
   ],
   "source": [
    "len(tf_idf.get_feature_names())"
   ]
  },
  {
   "cell_type": "code",
   "execution_count": null,
   "id": "2c420c46",
   "metadata": {},
   "outputs": [],
   "source": []
  },
  {
   "cell_type": "code",
   "execution_count": 28,
   "id": "c9d54c22",
   "metadata": {
    "ExecuteTime": {
     "end_time": "2022-07-06T15:54:59.040499Z",
     "start_time": "2022-07-06T15:54:55.992273Z"
    }
   },
   "outputs": [],
   "source": [
    "x_train = csr_matrix.todense(x_train_tf)\n",
    "x_test = csr_matrix.todense(x_test_tf)"
   ]
  },
  {
   "cell_type": "code",
   "execution_count": 29,
   "id": "ded3c519",
   "metadata": {
    "ExecuteTime": {
     "end_time": "2022-07-06T15:54:59.117319Z",
     "start_time": "2022-07-06T15:54:59.085374Z"
    }
   },
   "outputs": [],
   "source": [
    "# In the first layer give 11000 neurons\n",
    "# In the 2nd layer give 128 neurons\n",
    "# In third layer give 3 neurons\n",
    "# Since this is lable encoded we use sparse cotegorical cross entropy"
   ]
  },
  {
   "cell_type": "code",
   "execution_count": null,
   "id": "0d1a781a",
   "metadata": {},
   "outputs": [],
   "source": []
  }
 ],
 "metadata": {
  "kernelspec": {
   "display_name": "Python 3 (ipykernel)",
   "language": "python",
   "name": "python3"
  },
  "language_info": {
   "codemirror_mode": {
    "name": "ipython",
    "version": 3
   },
   "file_extension": ".py",
   "mimetype": "text/x-python",
   "name": "python",
   "nbconvert_exporter": "python",
   "pygments_lexer": "ipython3",
   "version": "3.9.7"
  }
 },
 "nbformat": 4,
 "nbformat_minor": 5
}
